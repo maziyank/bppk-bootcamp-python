{
 "cells": [
  {
   "cell_type": "markdown",
   "metadata": {},
   "source": [
    "## Tugas Pandas\n",
    "\n",
    "1. Bentuklah kelompok (4 Kelompok)\n",
    "2. Carilah sebuah dataset (bebas diambil dari sumber manapun namun tetap memperhatikan etika penggunaan data).\n",
    "3. Lakukan Exploratory Data Analysis (EDA) sederhana pada dataset tersebut dengan Pandas dan/atau Matplotlib.\n",
    "4. EDA yang dilakukan sekurang-kurangnya meliputi statistik deskriptif.\n",
    "5. Presentasikan Hasilnya pada Kamis 23 April 2020 (masing-masing 5 menit)."
   ]
  },
  {
   "cell_type": "markdown",
   "metadata": {},
   "source": [
    "## Good Luck"
   ]
  },
  {
   "cell_type": "code",
   "execution_count": null,
   "metadata": {},
   "outputs": [],
   "source": []
  }
 ],
 "metadata": {
  "kernelspec": {
   "display_name": "Python 3",
   "language": "python",
   "name": "python3"
  },
  "language_info": {
   "codemirror_mode": {
    "name": "ipython",
    "version": 3
   },
   "file_extension": ".py",
   "mimetype": "text/x-python",
   "name": "python",
   "nbconvert_exporter": "python",
   "pygments_lexer": "ipython3",
   "version": "3.8.5"
  }
 },
 "nbformat": 4,
 "nbformat_minor": 4
}
